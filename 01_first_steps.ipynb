{
 "cells": [
  {
   "cell_type": "markdown",
   "source": [
    "# Basic I: first steps"
   ],
   "metadata": {}
  },
  {
   "cell_type": "markdown",
   "source": [
    "Hydrothermal scheduling is the most common application of stochastic dual\n",
    "dynamic programming. To illustrate some of the basic functionality of\n",
    "`SDDP.jl`, we implement a very simple model of the hydrothermal scheduling\n",
    "problem."
   ],
   "metadata": {}
  },
  {
   "cell_type": "markdown",
   "source": [
    "We consider the problem of scheduling electrical generation over three time\n",
    "periods in order to meet a known demand of 150 MWh in each period."
   ],
   "metadata": {}
  },
  {
   "cell_type": "markdown",
   "source": [
    "There are two generators: a thermal generator, and a hydro generator. The\n",
    "thermal generator has a short-run marginal cost of \\\\\\$50/MWh in the first\n",
    "stage, \\\\\\$100/MWh in the second stage, and \\\\\\$150/MWh in the third stage.\n",
    "The hydro generator has a short-run marginal cost of \\\\\\$0/MWh."
   ],
   "metadata": {}
  },
  {
   "cell_type": "markdown",
   "source": [
    "The hydro generator draws water from a reservoir which has a maximum capacity\n",
    "of 200 units. We assume that at the start of the first time period, the\n",
    "reservoir is full. In addition to the ability to generate electricity by\n",
    "passing water through the hydroelectric turbine, the hydro generator can also\n",
    "spill water down a spillway (bypassing the turbine) in order to prevent the\n",
    "water from over-topping the dam. We assume that there is no cost of spillage."
   ],
   "metadata": {}
  },
  {
   "cell_type": "markdown",
   "source": [
    "The objective of the optimization is to minimize the expected cost of\n",
    "generation over the three time periods."
   ],
   "metadata": {}
  },
  {
   "cell_type": "markdown",
   "source": [
    "## Mathematical formulation"
   ],
   "metadata": {}
  },
  {
   "cell_type": "markdown",
   "source": [
    "Let's take the problem described above and form a mathematical model. In any\n",
    "multistage stochastic programming problem, we need to identify five key\n",
    "features:"
   ],
   "metadata": {}
  },
  {
   "cell_type": "markdown",
   "source": [
    "1. The _stages_\n",
    "2. The _state_ variables\n",
    "3. The _control_ variables\n",
    "4. The _dynamics_\n",
    "5. The _stage-objective_"
   ],
   "metadata": {}
  },
  {
   "cell_type": "markdown",
   "source": [
    "#### Stages"
   ],
   "metadata": {}
  },
  {
   "cell_type": "markdown",
   "source": [
    "From the description, we have three stages: `t = 1, 2, 3`. Here is a picture\n",
    "of what this looks like:\n",
    "\n",
    "![Linear policy graph](../assets/deterministic_linear_policy_graph.png)\n",
    "\n",
    "Notice that the boxes form a _linear graph_. This will be important when we\n",
    "get to the code. (We'll get to more complicated graphs in future tutorials.)"
   ],
   "metadata": {}
  },
  {
   "cell_type": "markdown",
   "source": [
    "#### State variables"
   ],
   "metadata": {}
  },
  {
   "cell_type": "markdown",
   "source": [
    "State variables capture the information that flows between stages. These can\n",
    "be harder to identify. However, in our model, the state variable is the volume\n",
    "of water stored in the reservoir over time."
   ],
   "metadata": {}
  },
  {
   "cell_type": "markdown",
   "source": [
    "In the model below, we're going to call the state variable `volume`."
   ],
   "metadata": {}
  },
  {
   "cell_type": "markdown",
   "source": [
    "Each stage `t` is an interval in time. Thus, we need to record the value of\n",
    "the state variable in each stage at two points in time: at the beginning of\n",
    "the stage, which we  refer to as the _incoming_ value of the state variable;\n",
    "and at the end of the  state, which we refer to as the _outgoing_ state\n",
    "variable."
   ],
   "metadata": {}
  },
  {
   "cell_type": "markdown",
   "source": [
    "We're going to refer to the incoming value of `volume` by `volume.in` and the\n",
    "outgoing value by `volume.out`."
   ],
   "metadata": {}
  },
  {
   "cell_type": "markdown",
   "source": [
    "Note that `volume.out` when `t=1` is equal to `volume.in` when `t=2`."
   ],
   "metadata": {}
  },
  {
   "cell_type": "markdown",
   "source": [
    "The problem description also mentions some constraints on the volume of water\n",
    "in the reservoir. It cannot be negative, and the maximum level is 200 units.\n",
    "Thus, we have `0 <= volume <= 200`. Also, the description says that the\n",
    "initial value of water in the reservoir (i.e., `volume.in` when `t = 1`) is\n",
    "200 units."
   ],
   "metadata": {}
  },
  {
   "cell_type": "markdown",
   "source": [
    "#### Control variables"
   ],
   "metadata": {}
  },
  {
   "cell_type": "markdown",
   "source": [
    "Control variables are the actions that the agent can take during a stage to\n",
    "change the value of the state variables. (Hence the name _control_.)"
   ],
   "metadata": {}
  },
  {
   "cell_type": "markdown",
   "source": [
    "There are three control variables in our problem."
   ],
   "metadata": {}
  },
  {
   "cell_type": "markdown",
   "source": [
    "1. The quantity of thermal generation, which we're going to call\n",
    "   `thermal_generation`.\n",
    "2. The quantity of hydro generation, which we're going to call\n",
    "   `hydro_generation`.\n",
    "3. The quatity of water to spill, which we're going to call `hydro_spill`."
   ],
   "metadata": {}
  },
  {
   "cell_type": "markdown",
   "source": [
    "All of these variables are non-negative."
   ],
   "metadata": {}
  },
  {
   "cell_type": "markdown",
   "source": [
    "#### The dynamics"
   ],
   "metadata": {}
  },
  {
   "cell_type": "markdown",
   "source": [
    "The dynamics of a problem describe how the state variables evolve through time\n",
    "in response to the controls chosen by the agent."
   ],
   "metadata": {}
  },
  {
   "cell_type": "markdown",
   "source": [
    "For our problem, the state variable is the volume of water in the reservoir.\n",
    "The volume of water decreases in response to water being used for hydro\n",
    "generation and spillage. So the dynamics for our problem are:"
   ],
   "metadata": {}
  },
  {
   "cell_type": "markdown",
   "source": [
    "`volume.out = volume.in - hydro_generation - hydro_spill`"
   ],
   "metadata": {}
  },
  {
   "cell_type": "markdown",
   "source": [
    "We can also put constraints on the values of the state and control variables.\n",
    "For example, in our problem, there is also a constraint that the total\n",
    "generation must meet the demand of 150 MWh in each stage. So, we have a\n",
    "constraint that:\n",
    "`hydro_generation + thermal_generation = 150`."
   ],
   "metadata": {}
  },
  {
   "cell_type": "markdown",
   "source": [
    " #### The stage-objective"
   ],
   "metadata": {}
  },
  {
   "cell_type": "markdown",
   "source": [
    "The agent's objective is to minimize the cost of generation. So in each stage,\n",
    "the agent wants to minimize the quantity of thermal generation multiplied by\n",
    "the short-run marginal cost of thermal generation."
   ],
   "metadata": {}
  },
  {
   "cell_type": "markdown",
   "source": [
    "In stage `t`, they want to minimize `fuel_cost[t] * thermal_generation`, where\n",
    "`fuel_cost[t]` is \\\\\\$50 when `t=1`, \\\\\\$100 when `t=2`, and \\\\\\$150 when\n",
    "`t=3`."
   ],
   "metadata": {}
  },
  {
   "cell_type": "markdown",
   "source": [
    "We're now ready to construct a model. Since `SDDP.jl` is intended to be very\n",
    "user-friendly, we're going to give the full code first, and then walk through\n",
    "some of the details. However, you should be able to read through and\n",
    "understand most of what is happening."
   ],
   "metadata": {}
  },
  {
   "cell_type": "markdown",
   "source": [
    "## Creating a model"
   ],
   "metadata": {}
  },
  {
   "outputs": [],
   "cell_type": "code",
   "source": [
    "using SDDP, GLPK\n",
    "\n",
    "model = SDDP.LinearPolicyGraph(\n",
    "    stages = 3,\n",
    "    sense = :Min,\n",
    "    lower_bound = 0.0,\n",
    "    optimizer = GLPK.Optimizer\n",
    ") do subproblem, t\n",
    "    # Define the state variable.\n",
    "    @variable(subproblem, 0 <= volume <= 200, SDDP.State, initial_value = 200)\n",
    "    # Define the control variables.\n",
    "    @variables(subproblem, begin\n",
    "        thermal_generation >= 0\n",
    "        hydro_generation   >= 0\n",
    "        hydro_spill        >= 0\n",
    "    end)\n",
    "    # Define the constraints\n",
    "    @constraints(subproblem, begin\n",
    "        volume.out == volume.in - hydro_generation - hydro_spill\n",
    "        thermal_generation + hydro_generation == 150.0\n",
    "    end)\n",
    "    # Define the objective for each stage `t`. Note that we can use `t` as an\n",
    "    # index for t = 1, 2, 3.\n",
    "    fuel_cost = [50.0, 100.0, 150.0]\n",
    "    @stageobjective(subproblem, fuel_cost[t] * thermal_generation)\n",
    "end"
   ],
   "metadata": {},
   "execution_count": null
  },
  {
   "cell_type": "markdown",
   "source": [
    " Wasn't that easy! Let's walk through some of the non-obvious features."
   ],
   "metadata": {}
  },
  {
   "cell_type": "markdown",
   "source": [
    "!!! tip\n",
    "    For more information on `SDDP.LinearPolicyGraph`s, read\n",
    "    Create a general policy graph."
   ],
   "metadata": {}
  },
  {
   "cell_type": "markdown",
   "source": [
    "#### What's this weird `do` syntax?"
   ],
   "metadata": {}
  },
  {
   "cell_type": "markdown",
   "source": [
    "Julia's `do` syntax looks a little weird at first, but it's just a nice way of\n",
    "making a function that can be passed to another function. For example:"
   ],
   "metadata": {}
  },
  {
   "outputs": [],
   "cell_type": "code",
   "source": [
    "function outer(inner::Function)\n",
    "    inner(2)\n",
    "end\n",
    "\n",
    "outer() do x\n",
    "    println(\"x^2 = \", x^2)\n",
    "end"
   ],
   "metadata": {},
   "execution_count": null
  },
  {
   "cell_type": "markdown",
   "source": [
    "is equivalent to"
   ],
   "metadata": {}
  },
  {
   "outputs": [],
   "cell_type": "code",
   "source": [
    "inner(x) = println(\"x^2 = \", x^2)\n",
    "outer(inner)"
   ],
   "metadata": {},
   "execution_count": null
  },
  {
   "cell_type": "markdown",
   "source": [
    "So, in our case, we could have gone:"
   ],
   "metadata": {}
  },
  {
   "outputs": [],
   "cell_type": "code",
   "source": [
    "function subproblem_builder(subproblem::JuMP.Model, t::Int)\n",
    "    # Define the state variable.\n",
    "    @variable(subproblem, 0 <= volume <= 200, SDDP.State, initial_value = 200)\n",
    "    # Define the control variables.\n",
    "    @variables(subproblem, begin\n",
    "        thermal_generation >= 0\n",
    "        hydro_generation   >= 0\n",
    "        hydro_spill        >= 0\n",
    "    end)\n",
    "    # Define the constraints\n",
    "    @constraints(subproblem, begin\n",
    "        volume.out == volume.in - hydro_generation - hydro_spill\n",
    "        thermal_generation + hydro_generation == 150.0\n",
    "    end)\n",
    "    # Define the objective for each stage `t`. Note that we can use `t` as an\n",
    "    # index for t = 1, 2, 3.\n",
    "    fuel_cost = [50.0, 100.0, 150.0]\n",
    "    @stageobjective(subproblem, fuel_cost[t] * thermal_generation)\n",
    "end\n",
    "\n",
    "model = SDDP.LinearPolicyGraph(\n",
    "    subproblem_builder,\n",
    "    stages = 3,\n",
    "    sense = :Min,\n",
    "    lower_bound = 0.0,\n",
    "    optimizer = GLPK.Optimizer\n",
    ")"
   ],
   "metadata": {},
   "execution_count": null
  },
  {
   "cell_type": "markdown",
   "source": [
    "#### The keywords in the `SDDP.LinearPolicyGraph` constructor"
   ],
   "metadata": {}
  },
  {
   "cell_type": "markdown",
   "source": [
    "Hopefully `stages` and `sense` are obvious. However, the other two are not so\n",
    "clear."
   ],
   "metadata": {}
  },
  {
   "cell_type": "markdown",
   "source": [
    "`lower_bound`: you _must_ supply a valid bound on the objective. For our\n",
    "problem, we know that we cannot incur a negative cost so \\\\\\$0 is a valid lower\n",
    "bound."
   ],
   "metadata": {}
  },
  {
   "cell_type": "markdown",
   "source": [
    "`optimizer`: This is borrowed directly from JuMP's `Model` constructor:\n",
    "(`Model(GLPK.Optimizer)`)"
   ],
   "metadata": {}
  },
  {
   "cell_type": "markdown",
   "source": [
    "#### Creating state variables"
   ],
   "metadata": {}
  },
  {
   "cell_type": "markdown",
   "source": [
    "State variables can be created like any other JuMP variables. Think of them as\n",
    "another type of variable like binary or integer. For example, to create a\n",
    "binary variable in JuMP, you go:\n",
    "```julia\n",
    "@variable(subproblem, x, Bin)\n",
    "```\n",
    "whereas to create a state variable you go\n",
    "```julia\n",
    "@variable(subproblem, x, SDDP.State)\n",
    "```"
   ],
   "metadata": {}
  },
  {
   "cell_type": "markdown",
   "source": [
    "Also note that you have to pass a keyword argument called `initial_value` that\n",
    "gives the incoming value of the state variable in the first stage."
   ],
   "metadata": {}
  },
  {
   "cell_type": "markdown",
   "source": [
    "#### Defining the stage-objective"
   ],
   "metadata": {}
  },
  {
   "cell_type": "markdown",
   "source": [
    "In a JuMP model, we can set the objective using `@objective`. For example:\n",
    "```julia\n",
    "@objective(subproblem, Min, fuel_cost[t] * thermal_generation)\n",
    "```"
   ],
   "metadata": {}
  },
  {
   "cell_type": "markdown",
   "source": [
    "Since we only need to define the objective for each stage, rather than the\n",
    "whole problem, we use the `SDDP.jl`-provided `@stageobjective`.\n",
    "```julia\n",
    "@stageobjective(subproblem, fuel_cost[t] * thermal_generation)\n",
    "```\n",
    "Note that we don't have to specify the optimization sense (`Max` of `Min`)\n",
    "since this is done via the `sense` keyword argument of\n",
    "`SDDP.LinearPolicyGraph`."
   ],
   "metadata": {}
  },
  {
   "cell_type": "markdown",
   "source": [
    " ## Training a policy"
   ],
   "metadata": {}
  },
  {
   "cell_type": "markdown",
   "source": [
    "Models can be trained using the `SDDP.train` function. It accepts a\n",
    "number of keyword arguments. `iteration_limit` terminates the training after\n",
    "the provided number of iterations."
   ],
   "metadata": {}
  },
  {
   "outputs": [],
   "cell_type": "code",
   "source": [
    "SDDP.train(model; iteration_limit = 3)"
   ],
   "metadata": {},
   "execution_count": null
  },
  {
   "cell_type": "markdown",
   "source": [
    "!!! tip\n",
    "    For more information on the numerical stability report, read the\n",
    "    Numerical stability report section."
   ],
   "metadata": {}
  },
  {
   "cell_type": "markdown",
   "source": [
    "## Saving the policy"
   ],
   "metadata": {}
  },
  {
   "cell_type": "markdown",
   "source": [
    "Once you have finished training the policy, you can write the cuts to file\n",
    "using `SDDP.write_cuts_to_file`. You can read these cuts into a new\n",
    "model using `SDDP.read_cuts_from_file`. Note that the model must have\n",
    "the same number (and names) of the state variables, as well as the same number\n",
    "and names of the nodes."
   ],
   "metadata": {}
  },
  {
   "cell_type": "markdown",
   "source": [
    "You can also save the log to a CSV file using `SDDP.write_log_to_csv`.\n",
    "This will create a CSV file with columns `iteration`, `simulation`, `bound`,\n",
    "and `time`."
   ],
   "metadata": {}
  },
  {
   "cell_type": "markdown",
   "source": [
    "## Simulating the policy"
   ],
   "metadata": {}
  },
  {
   "cell_type": "markdown",
   "source": [
    "Once you have a trained policy, you can simulate it using\n",
    "`SDDP.simulate`. The return value from `simulate` is a vector with one\n",
    "element for each replication. Each element is itself a vector, with one\n",
    "element for each stage. Each element, corresponding to a particular stage in a\n",
    "particular replication, is a dictionary that records information from the\n",
    "simulation."
   ],
   "metadata": {}
  },
  {
   "outputs": [],
   "cell_type": "code",
   "source": [
    "simulations = SDDP.simulate(\n",
    "    # The trained model to simulate.\n",
    "    model,\n",
    "    # The number of replications.\n",
    "    1,\n",
    "    # A list of names to record the values of.\n",
    "    [:volume, :thermal_generation, :hydro_generation, :hydro_spill]\n",
    ")\n",
    "\n",
    "replication = 1\n",
    "stage = 2\n",
    "simulations[replication][stage]"
   ],
   "metadata": {},
   "execution_count": null
  },
  {
   "cell_type": "markdown",
   "source": [
    "Ignore many of the entries for now;  they will be relevant later."
   ],
   "metadata": {}
  },
  {
   "cell_type": "markdown",
   "source": [
    " One element of iterest is `:volume`."
   ],
   "metadata": {}
  },
  {
   "outputs": [],
   "cell_type": "code",
   "source": [
    "outgoing_volume = [stage[:volume].out for stage in simulations[1]]"
   ],
   "metadata": {},
   "execution_count": null
  },
  {
   "cell_type": "markdown",
   "source": [
    " Another is `:thermal_generation`."
   ],
   "metadata": {}
  },
  {
   "outputs": [],
   "cell_type": "code",
   "source": [
    "thermal_generation = [stage[:thermal_generation] for stage in simulations[1]]"
   ],
   "metadata": {},
   "execution_count": null
  },
  {
   "cell_type": "markdown",
   "source": [
    "From this, we can see the optimal policy: in the first stage, use 150 MWh of\n",
    "thermal generation and 0 MWh of hydro generation. In the second stage, use 100\n",
    "MWh of thermal and 50 MWh of hydro. In the third and final stage, use 0 MWh of\n",
    "thermal and 150 MWh of  hydro."
   ],
   "metadata": {}
  },
  {
   "cell_type": "markdown",
   "source": [
    "This concludes our first very simple tutorial for `SDDP.jl`. In the next\n",
    "tutorial, Basic II: adding uncertainty, we will extend this problem by\n",
    "adding uncertainty."
   ],
   "metadata": {}
  },
  {
   "cell_type": "markdown",
   "source": [
    "---\n",
    "\n",
    "*This notebook was generated using [Literate.jl](https://github.com/fredrikekre/Literate.jl).*"
   ],
   "metadata": {}
  }
 ],
 "nbformat_minor": 3,
 "metadata": {
  "language_info": {
   "file_extension": ".jl",
   "mimetype": "application/julia",
   "name": "julia",
   "version": "1.5.3"
  },
  "kernelspec": {
   "name": "julia-1.5",
   "display_name": "Julia 1.5.3",
   "language": "julia"
  }
 },
 "nbformat": 4
}
